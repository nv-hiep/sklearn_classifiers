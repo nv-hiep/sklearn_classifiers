{
 "cells": [
  {
   "cell_type": "code",
   "execution_count": null,
   "metadata": {},
   "outputs": [],
   "source": [
    "import json\n",
    "import random\n",
    "\n",
    "data      = []\n",
    "n_samples = 1000\n",
    "\n",
    "file_name = 'reviews_Books_5.json'\n",
    "with open(f'data/{file_name}') as f:\n",
    "    for line in f:\n",
    "        review = json.loads(line)\n",
    "        year   = int(review['reviewTime'].split(' ')[-1])\n",
    "        if (year == 2014):\n",
    "            data.append(review)\n",
    "\n",
    "ret = random.sample(data, n_samples)\n",
    "with open('data/Books_review_' + str(n_samples) + '.json', 'w') as f:\n",
    "    for review in ret:\n",
    "        f.write(json.dumps(review)+'\\n')"
   ]
  }
 ],
 "metadata": {
  "kernelspec": {
   "display_name": "Python 3",
   "language": "python",
   "name": "python3"
  },
  "language_info": {
   "codemirror_mode": {
    "name": "ipython",
    "version": 3
   },
   "file_extension": ".py",
   "mimetype": "text/x-python",
   "name": "python",
   "nbconvert_exporter": "python",
   "pygments_lexer": "ipython3",
   "version": "3.8.2"
  }
 },
 "nbformat": 4,
 "nbformat_minor": 4
}
