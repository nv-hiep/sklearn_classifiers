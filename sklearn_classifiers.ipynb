{
 "cells": [
  {
   "cell_type": "code",
   "execution_count": 1,
   "metadata": {},
   "outputs": [],
   "source": [
    "import random\n",
    "\n",
    "positive = 'Positive'\n",
    "neutral  = 'Neutral'\n",
    "negative = 'Negative'\n",
    "\n",
    "class Review:\n",
    "    def __init__(self, text, star):\n",
    "        self.text = text\n",
    "        self.star = star\n",
    "        self.eval = self.get_eval()\n",
    "        \n",
    "    def get_eval(self):\n",
    "        if(self.star < 3):\n",
    "            return negative\n",
    "        elif(self.star == 3):\n",
    "            return neutral\n",
    "        else:\n",
    "            return positive\n",
    "\n",
    "class ReviewDist:\n",
    "    def __init__(self, reviews):\n",
    "        self.reviews = reviews\n",
    "    \n",
    "    def evenly_dist(self):\n",
    "        neg_rv = list( filter( lambda x: x.eval == negative, self.reviews ) )\n",
    "        neu_rv = list( filter( lambda x: x.eval == neutral, self.reviews ) )\n",
    "        pos_rv = list( filter( lambda x: x.eval == positive, self.reviews ))\n",
    "        \n",
    "        neg_len = len(neg_rv)\n",
    "        neu_len = len(neu_rv)\n",
    "        pos_len = len(pos_rv)\n",
    "        \n",
    "#         common_len = min( neg_len, neu_len, pos_len )\n",
    "        common_len = min( neg_len, pos_len )\n",
    "        \n",
    "#         self.reviews = neg_rv[:common_len] + neu_rv[:common_len] + pos_rv[:common_len]\n",
    "        self.reviews = neg_rv[:common_len] + pos_rv[:common_len]\n",
    "        random.shuffle( self.reviews )\n",
    "    \n",
    "    def get_text(self):\n",
    "        return [z.text for z in self.reviews]\n",
    "    \n",
    "    def get_eval(self):\n",
    "        return [z.eval for z in self.reviews]"
   ]
  },
  {
   "cell_type": "raw",
   "metadata": {},
   "source": []
  },
  {
   "cell_type": "markdown",
   "metadata": {},
   "source": [
    "# Read data from JSON file"
   ]
  },
  {
   "cell_type": "code",
   "execution_count": 2,
   "metadata": {
    "scrolled": false
   },
   "outputs": [
    {
     "name": "stdout",
     "output_type": "stream",
     "text": [
      "I really enjoyed this adventure and look forward to reading more of Robert Spire. I especially liked all the info on global warming. You did a good job on the research.\n",
      "4.0\n"
     ]
    }
   ],
   "source": [
    "import json\n",
    "\n",
    "# Print out or not\n",
    "say = False\n",
    "\n",
    "## data\n",
    "file = 'data/Books_small_10000.json'\n",
    "\n",
    "\n",
    "\n",
    "reviews = []\n",
    "with open(file) as f:\n",
    "    for row in f:\n",
    "        review = json.loads(row)\n",
    "        \n",
    "        if(say):\n",
    "            print('reviewerID' + ': ' + review['reviewerID'])\n",
    "            print('asin' + ': ' + review['asin'])\n",
    "            print('Overall' + ': ' + str( review['overall'] ) )\n",
    "            print('reviewerName' + ': ' + review['reviewerName'])\n",
    "            print('reviewText' + ': ' + review['reviewText'] )\n",
    "        \n",
    "        reviews.append( Review(review['reviewText'], review['overall']) )\n",
    "    # End - for\n",
    "# End - with open\n",
    "\n",
    "print( reviews[3].text )\n",
    "print( reviews[3].star )\n",
    "        "
   ]
  },
  {
   "cell_type": "raw",
   "metadata": {},
   "source": []
  },
  {
   "cell_type": "markdown",
   "metadata": {},
   "source": [
    "# Data"
   ]
  },
  {
   "cell_type": "code",
   "execution_count": 3,
   "metadata": {
    "scrolled": true
   },
   "outputs": [
    {
     "name": "stdout",
     "output_type": "stream",
     "text": [
      "No. of positive reviews:  393\n",
      "No. of neutral reviews:  0\n",
      "No. of negative reviews:  393\n"
     ]
    }
   ],
   "source": [
    "from sklearn.model_selection import train_test_split\n",
    "training_set, test_set = train_test_split(reviews, test_size = 0.4, random_state=42)\n",
    "\n",
    "train_ds = ReviewDist( training_set )\n",
    "test_ds  = ReviewDist( test_set )\n",
    "\n",
    "train_ds.evenly_dist()\n",
    "X_train = train_ds.get_text()\n",
    "y_train = train_ds.get_eval()\n",
    "\n",
    "test_ds.evenly_dist()\n",
    "X_test  = test_ds.get_text()\n",
    "y_test  = test_ds.get_eval()\n",
    "\n",
    "print( 'No. of positive reviews: ', y_train.count(positive) )\n",
    "print( 'No. of neutral reviews: ', y_train.count(neutral) )\n",
    "print( 'No. of negative reviews: ', y_train.count(negative) )"
   ]
  },
  {
   "cell_type": "code",
   "execution_count": 4,
   "metadata": {},
   "outputs": [
    {
     "name": "stdout",
     "output_type": "stream",
     "text": [
      "I received a copy of this book from Netgalley in exchange for an honest review.Wow.If I had to sum this book up into just one word, there isn&#8217;t another better for the job.  First there is the absolutely breathtakingly stunning cover.  The very moment I saw it, I knew I&#8217;d be obsessed.  It would take a lot for me to hate a book with that cover.  By looking at it, I never would have guessed the story line, but it fits just perfectly.Can you imagine living your entire life without ever truly seeing the sun? Can you imagine never experiencing the beautiful night sky and all its beauty? What would the world look like with only one and not the other, I wonder? Well, apparently Elizabeth Fama wondered too, because she created a complicated alternate universe from that very idea.This is a dystopian that reads so much more than dystopian.  It has a lot of themes and similarities, but it was so much bigger than that box.  I&#8217;ve been reading dystopian novels since 2010 (and longer if you count the classics), and this one doesn&#8217;t quite fit the mold of the cookie cutter dystopian novel.  I loved that it brought feelings of other books (It reminded me of June and Day in Legend by Marie Lu, when they are together on the streets.  They are so different and June gets to see life through unfiltered eyes for the first time with Day.  It also reminded me of the story Deuce and Fade read together in Enclave, which ironically IS about a boy who lives in the day and a girl who lives at night.  It worked in Enclave and it obviously worked here too.), but it stood on its own.The social issues and injustices are there - they are solid.  You clearly get a picture of what it is like to live in this world, not only as a Smudge (a person allowed to live at night), but as a Ray (person allowed to live in the day).  The best part is watching Sol&#8217;s mind expand as she realizes that while Day&#8217;s have a lot of perks her family wasn&#8217;t afforded, life isn&#8217;t always easier.  There are injustices, especially when it comes to the splitting of families, the tough decisions parents and love ones must make in this world, and law versus doing what&#8217;s right are a major selling point of the book.This book is a clear metaphor &#8212; Days are allowed to live what we would call a normal life &#8212; in the daytime, which a schedule we are used to.  If they are caught breaking the law (aka being out after dark), they are called teenage hijinks.  However, a Night being out in the day is cause for jail time and felonies.  Sol sees this injustice very clearly when she is imprisoned for being out during the day &#8212; even though she is in the hospital tending to a severe injury.  I really liked how well thought out the society was in this respect.While we learn about WHY this society is split slowly, (and trust me it was at the forefront of my mind constantly), in the end it doesn&#8217;t matter.  Something that started as a way to save the population was grossly mutated in a twisted way to handle and control society.  The book is heavy on French language, which again, I don&#8217;t know why.  I mean, I loved it because it added to the beauty of the book, but I didn&#8217;t really ever know why it was that way.  I understood that the characters family&#8217;s were from French-speaking countries, but I didn&#8217;t really ever get if that was a convenient part of the plot or if this society was heavy in French-speaking because of the alternate universe plot points.Sol&#8217;s commitment to her family is unflinching and even though the book suffers from &#8216;lack of parent syndrome&#8217; (prior to D&#8217;Arcy&#8217;s family coming into the mix at least), we don&#8217;t see a teen who is doing something to combat the society &#8212; she is merely trying to love and protect her family.  There were times, especially in the beginning, where I kept thinking &#8220;What are you doing Sol?&#8221;  She was an incredibly smart teen making incredibly risky choices just for the look of a smile on her blind grandfather who was dying.  And when I thought about that, I realized what kind of character a person like Sol has &#8212; it&#8217;s a bit awe inspiring.  Sure that&#8217;s not to say that her decisions were hasty and half-baked, in a desperate attempt to make that one dream come true, but her heart is something to admire.Even though I love so much about this book, I think in terms of world-building, our explanation of why things are the way they are in this world.  Yes, I got that this alternate universe (which by the way, I LOVE that this society was created from a fixed point in our past &#8212; that this was something that happened to our society because the past, not the future was changed) and that it started at the time of the 1918 flu pandemic, but the WHY of it never really took hold for me.  I think there is a lot of opportunity to explain how the world got stuck this way &#8212; and hopefully we will get to see that in book two and beyond, but it is something that could have made my reading experience less confusing.  I sat for chapters asking these questions and it seriously hindered me from just enjoying the beautiful words on the page. I&#8217;d also like to point out that the 1918 flu pandemic seems to be a frequent topic in the books I&#8217;m reading lately.  I don&#8217;t know why it is a popular point in history with YA, because it never was before I started reading all these books, but it has given me a greater awareness of that point in our history.I loved Fama&#8217;s writing so much.  It is a bit hard to describe how she does it, but she seems to make everything sound beautiful, even when it is ugly.  Even when these awful things are happening in the story, I couldn&#8217;t get over how beautiful the words were.  They made my heart bloom and fall in love &#8212; with the words.  Yes, I fell in love with the words.  Even when I was confused or upset, I was compelled forward into the story because of those words.  And when we finally make it to the romance section of the book, I thought my heart just might burst.  It&#8217;s beautiful and unflinchingly perfect, but doesn&#8217;t overshadow the rest of the book at all.  I also love how Fama gives us bits and pieces of the back story, sprinkled throughout the &#8216;current&#8217; timeline.  It didn&#8217;t seem forced or an easy way to feed us information, but natural as if Sol was sitting in my room recounting her stories of her life.  The inside is as beautiful as the outside and that just made my heart happy.  I also loved the language Fama uses.  There are a lot of great vocabulary words and this book is definitely not &#8216;dumbed&#8217; down in any way.  I have an extensive vocabulary and I still found myself learning some new words.  It&#8217;s smart writing and it doesn&#8217;t wield itself to anything less.Speaking of the romance, I&#8217;m so happy that it is well developed and not insta-love at all.  I mean, the characters practically hate each other, then grow to like, and then love.  It&#8217;s a natural progression.  In dystopian, I tend to see the stress of the world bringing two characters together quickly and intensely, and this one took its time.  Sure, things get intense and passionate, but for some reason, I just thought the timeline worked well and held its own.On another note, this is the second book I&#8217;ve read where the main character forms a relationship with someone she does not know on a school desk.  It&#8217;s such a weird and wonderful idea and I was enamored by it.  Even though I had seen it done with another book written this year, it still made my heart pitter-patter.  I wish I could have found a friend through penciled drawings on a desk in math class.  The only thing I ever found in math class was the notion that I would never, ever, understand proofs.  (Side note, my brain works great in algebra, but geometry is quite literally another language that I will not quite be privy to).Even though I have said a lot in this review, I don&#8217;t think I can properly explain how much awesome was encased in this book&#8217;s insides.  Even with some minor issues, this book blew me away.  I highlighted so many things that when I get a physical copy of it, my book is going to be more yellow highlighter than normal words.For this review and more, visit Such a Novel Idea.\n",
      "  (0, 6257)\t1\n",
      "  (0, 1715)\t2\n",
      "  (0, 5370)\t32\n",
      "  (0, 7781)\t25\n",
      "  (0, 968)\t18\n",
      "  (0, 3205)\t6\n",
      "  (0, 5226)\t1\n",
      "  (0, 3932)\t35\n",
      "  (0, 2747)\t1\n",
      "  (0, 3111)\t11\n",
      "  (0, 384)\t4\n",
      "  (0, 3747)\t1\n",
      "  (0, 6476)\t3\n",
      "  (0, 8619)\t1\n",
      "  (0, 3869)\t6\n",
      "  (0, 3502)\t2\n",
      "  (0, 7867)\t34\n",
      "  (0, 7500)\t1\n",
      "  (0, 8204)\t1\n",
      "  (0, 4128)\t3\n",
      "  (0, 4293)\t7\n",
      "  (0, 5406)\t5\n",
      "  (0, 8592)\t1\n",
      "  (0, 7762)\t7\n",
      "  (0, 4183)\t2\n",
      "  :\t:\n",
      "  (0, 5298)\t1\n",
      "  (0, 8106)\t1\n",
      "  (0, 6034)\t1\n",
      "  (0, 6974)\t1\n",
      "  (0, 1018)\t1\n",
      "  (0, 8602)\t1\n",
      "  (0, 317)\t1\n",
      "  (0, 3295)\t1\n",
      "  (0, 4591)\t1\n",
      "  (0, 5980)\t1\n",
      "  (0, 6659)\t1\n",
      "  (0, 6037)\t1\n",
      "  (0, 657)\t1\n",
      "  (0, 2563)\t1\n",
      "  (0, 4044)\t1\n",
      "  (0, 4976)\t1\n",
      "  (0, 913)\t1\n",
      "  (0, 655)\t1\n",
      "  (0, 3680)\t1\n",
      "  (0, 4760)\t1\n",
      "  (0, 5714)\t1\n",
      "  (0, 3363)\t1\n",
      "  (0, 8660)\t1\n",
      "  (0, 3681)\t1\n",
      "  (0, 8320)\t1\n",
      "(786, 8701)\n",
      "(502, 8701)\n"
     ]
    }
   ],
   "source": [
    "from sklearn.feature_extraction.text import CountVectorizer\n",
    "from sklearn.feature_extraction.text import TfidfVectorizer\n",
    "\n",
    "vectorizer  = CountVectorizer()\n",
    "X_train_vec = vectorizer.fit_transform(X_train)\n",
    "X_test_vec  = vectorizer.transform(X_test)\n",
    "\n",
    "print( X_train[0] )\n",
    "print( X_train_vec[0] )\n",
    "\n",
    "print( X_train_vec.shape )\n",
    "print( X_test_vec.shape )\n"
   ]
  },
  {
   "cell_type": "markdown",
   "metadata": {},
   "source": [
    "# Classifications"
   ]
  },
  {
   "cell_type": "markdown",
   "metadata": {},
   "source": [
    "### Naive Bayes"
   ]
  },
  {
   "cell_type": "code",
   "execution_count": 5,
   "metadata": {},
   "outputs": [
    {
     "name": "stdout",
     "output_type": "stream",
     "text": [
      "Review: \n",
      " Robin writes such wondrous feel-good romances! I love them! When I pick up one of her books, I know that I will be in for a wonderful, enjoyable read.Yours at Midnight was a treat. Lyric and Quinn are wonderful characters. Quinn is our tortured hero who has been in love with Lyric since childhood. But... Lyric was besties with Quinn's brother. The three of them as next-door neighbors made a lot of memories through the years.Quinn's brother has now tragically passed away. Quinn has been away from home having left shortly after his brother's funeral. He hasn't seen or talked to Lyric in all that time, and he has an apology to make to her. Lyric has a few big secrets of her own. LOL! I wanted to shake her more than once!I connected immediately to both Lyric and Quinn. They're both survivors; each was stubborn and strong. The book's supporting characters and the setting as the time line neared New Year's Eve were perfect. I couldn't put the book down as Lyric's and Quinn's re-developing more-than-friendship went helter-skelter as the clock neared the new year.If you like to read light romances with happy ever after endings, you must read Robin's books. They're all great! Her writing just flows and it always immerses me completely in the story.4 3/4 stars! (Just because I wanted to shake Lyric so much during part of the book!)\n",
      "\n",
      "Actual review evaluation:  Positive\n",
      "\n",
      "Shape of X_test_vect:  (8701,)\n",
      "\n",
      "Predicted review evaluation:  Positive\n",
      "\n",
      "Score: 60.8%\n"
     ]
    }
   ],
   "source": [
    "from sklearn.naive_bayes import GaussianNB\n",
    "\n",
    "X_train_vect = X_train_vec.toarray()\n",
    "X_test_vect  = X_test_vec.toarray()\n",
    "\n",
    "clf_nb = GaussianNB()\n",
    "clf_nb.fit(X_train_vect, y_train)\n",
    "\n",
    "\n",
    "print('Review: \\n', X_test[0])\n",
    "print()\n",
    "print('Actual review evaluation: ', y_test[0])\n",
    "print()\n",
    "\n",
    "print( 'Shape of X_test_vect: ', X_test_vect[0].shape )\n",
    "print()\n",
    "\n",
    "print( 'Predicted review evaluation: ', clf_nb.predict( [X_test_vect[0]] )[0] )\n",
    "print()\n",
    "\n",
    "score = clf_nb.score(X_test_vect, y_test)\n",
    "print( 'Score: ' + str( round(100.*score,1) ) + '%' )"
   ]
  },
  {
   "cell_type": "markdown",
   "metadata": {},
   "source": [
    "### SVM"
   ]
  },
  {
   "cell_type": "code",
   "execution_count": 6,
   "metadata": {},
   "outputs": [
    {
     "name": "stdout",
     "output_type": "stream",
     "text": [
      "Review: \n",
      " Robin writes such wondrous feel-good romances! I love them! When I pick up one of her books, I know that I will be in for a wonderful, enjoyable read.Yours at Midnight was a treat. Lyric and Quinn are wonderful characters. Quinn is our tortured hero who has been in love with Lyric since childhood. But... Lyric was besties with Quinn's brother. The three of them as next-door neighbors made a lot of memories through the years.Quinn's brother has now tragically passed away. Quinn has been away from home having left shortly after his brother's funeral. He hasn't seen or talked to Lyric in all that time, and he has an apology to make to her. Lyric has a few big secrets of her own. LOL! I wanted to shake her more than once!I connected immediately to both Lyric and Quinn. They're both survivors; each was stubborn and strong. The book's supporting characters and the setting as the time line neared New Year's Eve were perfect. I couldn't put the book down as Lyric's and Quinn's re-developing more-than-friendship went helter-skelter as the clock neared the new year.If you like to read light romances with happy ever after endings, you must read Robin's books. They're all great! Her writing just flows and it always immerses me completely in the story.4 3/4 stars! (Just because I wanted to shake Lyric so much during part of the book!)\n",
      "\n",
      "Actual review evaluation:  Positive\n",
      "\n",
      "Predicted review evaluation:  Positive\n",
      "\n",
      "Score: 81.7%\n"
     ]
    }
   ],
   "source": [
    "from sklearn.svm import SVC\n",
    "clf_svm = SVC(kernel='linear', C=0.025)\n",
    "clf_svm.fit(X_train_vec, y_train)\n",
    "\n",
    "print('Review: \\n', X_test[0])\n",
    "print()\n",
    "print('Actual review evaluation: ', y_test[0])\n",
    "print()\n",
    "\n",
    "print( 'Predicted review evaluation: ', clf_svm.predict( X_test_vec[0] )[0] )\n",
    "print()\n",
    "\n",
    "score = clf_svm.score(X_test_vec, y_test)\n",
    "print( 'Score: ' + str( round(100.*score,1) ) + '%' )"
   ]
  },
  {
   "cell_type": "markdown",
   "metadata": {},
   "source": [
    "### Decision Tree"
   ]
  },
  {
   "cell_type": "code",
   "execution_count": 7,
   "metadata": {},
   "outputs": [
    {
     "name": "stdout",
     "output_type": "stream",
     "text": [
      "Review: \n",
      " Robin writes such wondrous feel-good romances! I love them! When I pick up one of her books, I know that I will be in for a wonderful, enjoyable read.Yours at Midnight was a treat. Lyric and Quinn are wonderful characters. Quinn is our tortured hero who has been in love with Lyric since childhood. But... Lyric was besties with Quinn's brother. The three of them as next-door neighbors made a lot of memories through the years.Quinn's brother has now tragically passed away. Quinn has been away from home having left shortly after his brother's funeral. He hasn't seen or talked to Lyric in all that time, and he has an apology to make to her. Lyric has a few big secrets of her own. LOL! I wanted to shake her more than once!I connected immediately to both Lyric and Quinn. They're both survivors; each was stubborn and strong. The book's supporting characters and the setting as the time line neared New Year's Eve were perfect. I couldn't put the book down as Lyric's and Quinn's re-developing more-than-friendship went helter-skelter as the clock neared the new year.If you like to read light romances with happy ever after endings, you must read Robin's books. They're all great! Her writing just flows and it always immerses me completely in the story.4 3/4 stars! (Just because I wanted to shake Lyric so much during part of the book!)\n",
      "\n",
      "Actual review evaluation:  Positive\n",
      "\n",
      "Predicted review evaluation:  Negative\n",
      "\n",
      "Score: 62.2%\n"
     ]
    }
   ],
   "source": [
    "from sklearn.tree import DecisionTreeClassifier\n",
    "\n",
    "clf_dt = DecisionTreeClassifier(max_depth=None)\n",
    "clf_dt.fit(X_train_vec, y_train)\n",
    "\n",
    "\n",
    "print('Review: \\n', X_test[0])\n",
    "print()\n",
    "print('Actual review evaluation: ', y_test[0])\n",
    "print()\n",
    "\n",
    "print( 'Predicted review evaluation: ', clf_dt.predict( X_test_vec[0] )[0] )\n",
    "print()\n",
    "\n",
    "score = clf_dt.score(X_test_vec, y_test)\n",
    "print( 'Score: ' + str( round(100.*score,1) ) + '%' )"
   ]
  },
  {
   "cell_type": "markdown",
   "metadata": {},
   "source": [
    "### K-Neighbors Classifier"
   ]
  },
  {
   "cell_type": "code",
   "execution_count": 8,
   "metadata": {},
   "outputs": [
    {
     "name": "stdout",
     "output_type": "stream",
     "text": [
      "Review: \n",
      " Robin writes such wondrous feel-good romances! I love them! When I pick up one of her books, I know that I will be in for a wonderful, enjoyable read.Yours at Midnight was a treat. Lyric and Quinn are wonderful characters. Quinn is our tortured hero who has been in love with Lyric since childhood. But... Lyric was besties with Quinn's brother. The three of them as next-door neighbors made a lot of memories through the years.Quinn's brother has now tragically passed away. Quinn has been away from home having left shortly after his brother's funeral. He hasn't seen or talked to Lyric in all that time, and he has an apology to make to her. Lyric has a few big secrets of her own. LOL! I wanted to shake her more than once!I connected immediately to both Lyric and Quinn. They're both survivors; each was stubborn and strong. The book's supporting characters and the setting as the time line neared New Year's Eve were perfect. I couldn't put the book down as Lyric's and Quinn's re-developing more-than-friendship went helter-skelter as the clock neared the new year.If you like to read light romances with happy ever after endings, you must read Robin's books. They're all great! Her writing just flows and it always immerses me completely in the story.4 3/4 stars! (Just because I wanted to shake Lyric so much during part of the book!)\n",
      "\n",
      "Actual review evaluation:  Positive\n",
      "\n",
      "Predicted review evaluation:  Negative\n",
      "\n",
      "Score: 58.0%\n"
     ]
    }
   ],
   "source": [
    "from sklearn.neighbors import KNeighborsClassifier\n",
    "\n",
    "clf_kn = KNeighborsClassifier(3)\n",
    "clf_kn.fit(X_train_vec, y_train)\n",
    "\n",
    "\n",
    "print('Review: \\n', X_test[0])\n",
    "print()\n",
    "print('Actual review evaluation: ', y_test[0])\n",
    "print()\n",
    "\n",
    "print( 'Predicted review evaluation: ', clf_kn.predict( X_test_vec[0] )[0] )\n",
    "print()\n",
    "\n",
    "score = clf_kn.score(X_test_vec, y_test)\n",
    "print( 'Score: ' + str( round(100.*score,1) ) + '%' )"
   ]
  },
  {
   "cell_type": "markdown",
   "metadata": {},
   "source": [
    "### Random Forest Classifier"
   ]
  },
  {
   "cell_type": "code",
   "execution_count": 9,
   "metadata": {},
   "outputs": [
    {
     "name": "stdout",
     "output_type": "stream",
     "text": [
      "Review: \n",
      " Robin writes such wondrous feel-good romances! I love them! When I pick up one of her books, I know that I will be in for a wonderful, enjoyable read.Yours at Midnight was a treat. Lyric and Quinn are wonderful characters. Quinn is our tortured hero who has been in love with Lyric since childhood. But... Lyric was besties with Quinn's brother. The three of them as next-door neighbors made a lot of memories through the years.Quinn's brother has now tragically passed away. Quinn has been away from home having left shortly after his brother's funeral. He hasn't seen or talked to Lyric in all that time, and he has an apology to make to her. Lyric has a few big secrets of her own. LOL! I wanted to shake her more than once!I connected immediately to both Lyric and Quinn. They're both survivors; each was stubborn and strong. The book's supporting characters and the setting as the time line neared New Year's Eve were perfect. I couldn't put the book down as Lyric's and Quinn's re-developing more-than-friendship went helter-skelter as the clock neared the new year.If you like to read light romances with happy ever after endings, you must read Robin's books. They're all great! Her writing just flows and it always immerses me completely in the story.4 3/4 stars! (Just because I wanted to shake Lyric so much during part of the book!)\n",
      "\n",
      "Actual review evaluation:  Positive\n",
      "\n",
      "Predicted review evaluation:  Negative\n",
      "\n",
      "Score: 51.8%\n"
     ]
    }
   ],
   "source": [
    "from sklearn.ensemble import RandomForestClassifier\n",
    "\n",
    "clf_rdf = RandomForestClassifier(max_depth=5, n_estimators=10, max_features=1)\n",
    "clf_rdf.fit(X_train_vec, y_train)\n",
    "\n",
    "\n",
    "print('Review: \\n', X_test[0])\n",
    "print()\n",
    "print('Actual review evaluation: ', y_test[0])\n",
    "print()\n",
    "\n",
    "print( 'Predicted review evaluation: ', clf_rdf.predict( X_test_vec[0] )[0] )\n",
    "print()\n",
    "\n",
    "score = clf_rdf.score(X_test_vec, y_test)\n",
    "print( 'Score: ' + str( round(100.*score,1) ) + '%' )"
   ]
  },
  {
   "cell_type": "markdown",
   "metadata": {},
   "source": [
    "### AdaBoost Classifier"
   ]
  },
  {
   "cell_type": "code",
   "execution_count": 10,
   "metadata": {},
   "outputs": [
    {
     "name": "stdout",
     "output_type": "stream",
     "text": [
      "Review: \n",
      " Robin writes such wondrous feel-good romances! I love them! When I pick up one of her books, I know that I will be in for a wonderful, enjoyable read.Yours at Midnight was a treat. Lyric and Quinn are wonderful characters. Quinn is our tortured hero who has been in love with Lyric since childhood. But... Lyric was besties with Quinn's brother. The three of them as next-door neighbors made a lot of memories through the years.Quinn's brother has now tragically passed away. Quinn has been away from home having left shortly after his brother's funeral. He hasn't seen or talked to Lyric in all that time, and he has an apology to make to her. Lyric has a few big secrets of her own. LOL! I wanted to shake her more than once!I connected immediately to both Lyric and Quinn. They're both survivors; each was stubborn and strong. The book's supporting characters and the setting as the time line neared New Year's Eve were perfect. I couldn't put the book down as Lyric's and Quinn's re-developing more-than-friendship went helter-skelter as the clock neared the new year.If you like to read light romances with happy ever after endings, you must read Robin's books. They're all great! Her writing just flows and it always immerses me completely in the story.4 3/4 stars! (Just because I wanted to shake Lyric so much during part of the book!)\n",
      "\n",
      "Actual review evaluation:  Positive\n",
      "\n",
      "Predicted review evaluation:  Positive\n",
      "\n",
      "Score: 74.5%\n"
     ]
    }
   ],
   "source": [
    "from sklearn.ensemble import AdaBoostClassifier\n",
    "\n",
    "clf_adb = AdaBoostClassifier()\n",
    "clf_adb.fit(X_train_vec, y_train)\n",
    "\n",
    "\n",
    "print('Review: \\n', X_test[0])\n",
    "print()\n",
    "print('Actual review evaluation: ', y_test[0])\n",
    "print()\n",
    "\n",
    "print( 'Predicted review evaluation: ', clf_adb.predict( X_test_vec[0] )[0] )\n",
    "print()\n",
    "\n",
    "score = clf_adb.score(X_test_vec, y_test)\n",
    "print( 'Score: ' + str( round(100.*score,1) ) + '%' )"
   ]
  },
  {
   "cell_type": "markdown",
   "metadata": {},
   "source": [
    "### Logistic Regression"
   ]
  },
  {
   "cell_type": "code",
   "execution_count": 11,
   "metadata": {
    "scrolled": false
   },
   "outputs": [
    {
     "name": "stdout",
     "output_type": "stream",
     "text": [
      "Review: \n",
      " Robin writes such wondrous feel-good romances! I love them! When I pick up one of her books, I know that I will be in for a wonderful, enjoyable read.Yours at Midnight was a treat. Lyric and Quinn are wonderful characters. Quinn is our tortured hero who has been in love with Lyric since childhood. But... Lyric was besties with Quinn's brother. The three of them as next-door neighbors made a lot of memories through the years.Quinn's brother has now tragically passed away. Quinn has been away from home having left shortly after his brother's funeral. He hasn't seen or talked to Lyric in all that time, and he has an apology to make to her. Lyric has a few big secrets of her own. LOL! I wanted to shake her more than once!I connected immediately to both Lyric and Quinn. They're both survivors; each was stubborn and strong. The book's supporting characters and the setting as the time line neared New Year's Eve were perfect. I couldn't put the book down as Lyric's and Quinn's re-developing more-than-friendship went helter-skelter as the clock neared the new year.If you like to read light romances with happy ever after endings, you must read Robin's books. They're all great! Her writing just flows and it always immerses me completely in the story.4 3/4 stars! (Just because I wanted to shake Lyric so much during part of the book!)\n",
      "\n",
      "Actual review evaluation:  Positive\n",
      "\n",
      "Predicted review evaluation:  Positive\n",
      "\n",
      "Score: 81.3%\n"
     ]
    }
   ],
   "source": [
    "from sklearn.linear_model import LogisticRegression\n",
    "\n",
    "clf_lr = LogisticRegression(random_state=0)\n",
    "clf_lr.fit(X_train_vec, y_train)\n",
    "\n",
    "\n",
    "print('Review: \\n', X_test[0])\n",
    "print()\n",
    "print('Actual review evaluation: ', y_test[0])\n",
    "print()\n",
    "\n",
    "print( 'Predicted review evaluation: ', clf_lr.predict( X_test_vec[0] )[0] )\n",
    "print()\n",
    "\n",
    "score = clf_lr.score(X_test_vec, y_test)\n",
    "print( 'Score: ' + str( round(100.*score,1) ) + '%' )"
   ]
  },
  {
   "cell_type": "markdown",
   "metadata": {},
   "source": [
    "# Compare classifiers"
   ]
  },
  {
   "cell_type": "code",
   "execution_count": 12,
   "metadata": {},
   "outputs": [
    {
     "name": "stdout",
     "output_type": "stream",
     "text": [
      "Naive Bayes\n",
      "Score: 60.8%\n",
      "\n",
      "SVM\n",
      "Score: 81.7%\n",
      "\n",
      "Decision Tree\n",
      "Score: 62.2%\n",
      "\n",
      "K-Neighbors Classifier\n",
      "Score: 58.0%\n",
      "\n",
      "Random Forest Classifier\n",
      "Score: 51.8%\n",
      "\n",
      "AdaBoost Classifier\n",
      "Score: 74.5%\n",
      "\n",
      "Logistic Regression\n",
      "Score: 81.3%\n",
      "\n"
     ]
    }
   ],
   "source": [
    "print('Naive Bayes')\n",
    "score = clf_nb.score(X_test_vect, y_test)\n",
    "print( 'Score: ' + str( round(100.*score,1) ) + '%\\n' )\n",
    "\n",
    "\n",
    "print('SVM')\n",
    "score = clf_svm.score(X_test_vec, y_test)\n",
    "print( 'Score: ' + str( round(100.*score,1) ) + '%\\n' )\n",
    "\n",
    "print('Decision Tree')\n",
    "score = clf_dt.score(X_test_vec, y_test)\n",
    "print( 'Score: ' + str( round(100.*score,1) ) + '%\\n' )\n",
    "\n",
    "print('K-Neighbors Classifier')\n",
    "score = clf_kn.score(X_test_vec, y_test)\n",
    "print( 'Score: ' + str( round(100.*score,1) ) + '%\\n' )\n",
    "\n",
    "print('Random Forest Classifier')\n",
    "score = clf_rdf.score(X_test_vec, y_test)\n",
    "print( 'Score: ' + str( round(100.*score,1) ) + '%\\n' )\n",
    "\n",
    "print('AdaBoost Classifier')\n",
    "score = clf_adb.score(X_test_vec, y_test)\n",
    "print( 'Score: ' + str( round(100.*score,1) ) + '%\\n' )\n",
    "\n",
    "print('Logistic Regression')\n",
    "score = clf_lr.score(X_test_vec, y_test)\n",
    "print( 'Score: ' + str( round(100.*score,1) ) + '%\\n' )"
   ]
  },
  {
   "cell_type": "code",
   "execution_count": 13,
   "metadata": {},
   "outputs": [
    {
     "name": "stdout",
     "output_type": "stream",
     "text": [
      "Naive Bayes\n",
      "       Positive -- Neutral -- Negative\n",
      "Score: [58.53 62.76]%\n",
      "\n",
      "\n",
      "SVM\n",
      "       Positive -- Neutral -- Negative\n",
      "Score: [81.82 81.53]%\n",
      "\n",
      "\n",
      "Decision Tree\n",
      "       Positive -- Neutral -- Negative\n",
      "Score: [61.22 63.04]%\n",
      "\n",
      "\n",
      "K-Neighbors Classifier\n",
      "       Positive -- Neutral -- Negative\n",
      "Score: [62.25 52.58]%\n",
      "\n",
      "\n",
      "Random Forest Classifier\n",
      "       Positive -- Neutral -- Negative\n",
      "Score: [14.18 66.48]%\n",
      "\n",
      "\n",
      "AdaBoost Classifier\n",
      "       Positive -- Neutral -- Negative\n",
      "Score: [74.8  74.19]%\n",
      "\n",
      "\n",
      "Logistic Regression\n",
      "       Positive -- Neutral -- Negative\n",
      "Score: [81.57 80.97]%\n",
      "\n",
      "\n"
     ]
    }
   ],
   "source": [
    "import numpy as np\n",
    "# F1 scores\n",
    "from sklearn.metrics import f1_score\n",
    "\n",
    "print('Naive Bayes')\n",
    "print('      ', positive, '--', neutral, '--', negative)\n",
    "score = f1_score(y_test, clf_nb.predict( X_test_vect ), average=None, labels=[positive, negative])\n",
    "print( 'Score: ' + str( np.round(100.*score,2) ) + '%\\n\\n' )\n",
    "\n",
    "\n",
    "print('SVM')\n",
    "print('      ', positive, '--', neutral, '--', negative)\n",
    "score = f1_score(y_test, clf_svm.predict( X_test_vect ), average=None, labels=[positive, negative])\n",
    "print( 'Score: ' + str( np.round(100.*score,2) ) + '%\\n\\n' )\n",
    "\n",
    "print('Decision Tree')\n",
    "print('      ', positive, '--', neutral, '--', negative)\n",
    "score = f1_score(y_test, clf_dt.predict( X_test_vect ), average=None, labels=[positive, negative])\n",
    "print( 'Score: ' + str( np.round(100.*score,2) ) + '%\\n\\n' )\n",
    "\n",
    "print('K-Neighbors Classifier')\n",
    "print('      ', positive, '--', neutral, '--', negative)\n",
    "score = f1_score(y_test, clf_kn.predict( X_test_vect ), average=None, labels=[positive, negative])\n",
    "print( 'Score: ' + str( np.round(100.*score,2) ) + '%\\n\\n' )\n",
    "\n",
    "print('Random Forest Classifier')\n",
    "print('      ', positive, '--', neutral, '--', negative)\n",
    "score = f1_score(y_test, clf_rdf.predict( X_test_vect ), average=None, labels=[positive, negative])\n",
    "print( 'Score: ' + str( np.round(100.*score,2) ) + '%\\n\\n' )\n",
    "\n",
    "print('AdaBoost Classifier')\n",
    "print('      ', positive, '--', neutral, '--', negative)\n",
    "score = f1_score(y_test, clf_adb.predict( X_test_vect ), average=None, labels=[positive, negative])\n",
    "print( 'Score: ' + str( np.round(100.*score,2) ) + '%\\n\\n' )\n",
    "\n",
    "print('Logistic Regression')\n",
    "print('      ', positive, '--', neutral, '--', negative)\n",
    "score = f1_score(y_test, clf_lr.predict( X_test_vect ), average=None, labels=[positive, negative])\n",
    "print( 'Score: ' + str( np.round(100.*score,2) ) + '%\\n\\n' )"
   ]
  },
  {
   "cell_type": "code",
   "execution_count": 15,
   "metadata": {},
   "outputs": [
    {
     "data": {
      "text/plain": [
       "GridSearchCV(cv=5, error_score=nan,\n",
       "             estimator=SVC(C=1.0, break_ties=False, cache_size=200,\n",
       "                           class_weight=None, coef0=0.0,\n",
       "                           decision_function_shape='ovr', degree=3,\n",
       "                           gamma='scale', kernel='rbf', max_iter=-1,\n",
       "                           probability=False, random_state=None, shrinking=True,\n",
       "                           tol=0.001, verbose=False),\n",
       "             iid='deprecated', n_jobs=None,\n",
       "             param_grid={'C': (0.2, 0.5, 1, 4, 8, 16, 32),\n",
       "                         'kernel': ('linear', 'poly', 'rbf', 'sigmoid')},\n",
       "             pre_dispatch='2*n_jobs', refit=True, return_train_score=False,\n",
       "             scoring=None, verbose=0)"
      ]
     },
     "execution_count": 15,
     "metadata": {},
     "output_type": "execute_result"
    }
   ],
   "source": [
    "from sklearn.model_selection import GridSearchCV\n",
    "\n",
    "params = {'kernel':('linear', 'poly', 'rbf', 'sigmoid'),\n",
    "          'C':(0.2, 0.5, 1, 4, 8, 16, 32)}\n",
    "\n",
    "svc = SVC()\n",
    "clf = GridSearchCV(svc, params, cv=5)\n",
    "clf.fit( X_train_vec, y_train )\n",
    "\n",
    "# GridSearchCV(cv=5, error_score=nan,\n",
    "#              estimator=SVC(C=1.0, break_ties=False, cache_size=200,\n",
    "#                            class_weight=None, coef0=0.0,\n",
    "#                            decision_function_shape='ovr', degree=3,\n",
    "#                            gamma='scale', kernel='rbf', max_iter=-1,\n",
    "#                            probability=False, random_state=None, shrinking=True,\n",
    "#                            tol=0.001, verbose=False),\n",
    "#              iid='deprecated', n_jobs=None,\n",
    "#              param_grid={'C': (0.2, 0.5, 1, 4, 8, 16, 32),\n",
    "#                          'kernel': ('linear', 'poly', 'rbf', 'sigmoid')},\n",
    "#              pre_dispatch='2*n_jobs', refit=True, return_train_score=False,\n",
    "#              scoring=None, verbose=0)"
   ]
  },
  {
   "cell_type": "code",
   "execution_count": 16,
   "metadata": {
    "scrolled": true
   },
   "outputs": [
    {
     "name": "stdout",
     "output_type": "stream",
     "text": [
      "SVM\n",
      "Score: 80.7%\n",
      "\n"
     ]
    }
   ],
   "source": [
    "print('SVM')\n",
    "score = clf.score(X_test_vec, y_test)\n",
    "print( 'Score: ' + str( round(100.*score,1) ) + '%\\n' )"
   ]
  },
  {
   "cell_type": "markdown",
   "metadata": {},
   "source": [
    "# Save model"
   ]
  },
  {
   "cell_type": "code",
   "execution_count": 20,
   "metadata": {},
   "outputs": [
    {
     "name": "stdout",
     "output_type": "stream",
     "text": [
      "Review: \n",
      " Robin writes such wondrous feel-good romances! I love them! When I pick up one of her books, I know that I will be in for a wonderful, enjoyable read.Yours at Midnight was a treat. Lyric and Quinn are wonderful characters. Quinn is our tortured hero who has been in love with Lyric since childhood. But... Lyric was besties with Quinn's brother. The three of them as next-door neighbors made a lot of memories through the years.Quinn's brother has now tragically passed away. Quinn has been away from home having left shortly after his brother's funeral. He hasn't seen or talked to Lyric in all that time, and he has an apology to make to her. Lyric has a few big secrets of her own. LOL! I wanted to shake her more than once!I connected immediately to both Lyric and Quinn. They're both survivors; each was stubborn and strong. The book's supporting characters and the setting as the time line neared New Year's Eve were perfect. I couldn't put the book down as Lyric's and Quinn's re-developing more-than-friendship went helter-skelter as the clock neared the new year.If you like to read light romances with happy ever after endings, you must read Robin's books. They're all great! Her writing just flows and it always immerses me completely in the story.4 3/4 stars! (Just because I wanted to shake Lyric so much during part of the book!)\n",
      "\n",
      "Actual review evaluation:  Positive\n",
      "\n",
      "Predicted review evaluation:  Positive\n",
      "\n",
      "Score: 80.7%\n"
     ]
    }
   ],
   "source": [
    "import pickle\n",
    "\n",
    "# Save model\n",
    "with open( 'sk_classifier_SVC.pkl', 'wb' ) as f:\n",
    "    pickle.dump(clf, f)\n",
    "\n",
    "# Load model\n",
    "with open('sk_classifier_SVC.pkl', 'rb' ) as f:\n",
    "    clf_load = pickle.load(f)\n",
    "\n",
    "\n",
    "\n",
    "print('Review: \\n', X_test[0])\n",
    "print()\n",
    "print('Actual review evaluation: ', y_test[0])\n",
    "print()\n",
    "\n",
    "print( 'Predicted review evaluation: ', clf_load.predict( X_test_vec[0] )[0] )\n",
    "print()\n",
    "\n",
    "score = clf_load.score(X_test_vec, y_test)\n",
    "print( 'Score: ' + str( round(100.*score,1) ) + '%' )"
   ]
  }
 ],
 "metadata": {
  "kernelspec": {
   "display_name": "Python 3",
   "language": "python",
   "name": "python3"
  },
  "language_info": {
   "codemirror_mode": {
    "name": "ipython",
    "version": 3
   },
   "file_extension": ".py",
   "mimetype": "text/x-python",
   "name": "python",
   "nbconvert_exporter": "python",
   "pygments_lexer": "ipython3",
   "version": "3.8.2"
  }
 },
 "nbformat": 4,
 "nbformat_minor": 4
}
